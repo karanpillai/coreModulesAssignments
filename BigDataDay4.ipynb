{
  "nbformat": 4,
  "nbformat_minor": 0,
  "metadata": {
    "colab": {
      "provenance": [],
      "authorship_tag": "ABX9TyP8L+YBD8ZwOjPqIVEdWZXT",
      "include_colab_link": true
    },
    "kernelspec": {
      "name": "python3",
      "display_name": "Python 3"
    },
    "language_info": {
      "name": "python"
    }
  },
  "cells": [
    {
      "cell_type": "markdown",
      "metadata": {
        "id": "view-in-github",
        "colab_type": "text"
      },
      "source": [
        "<a href=\"https://colab.research.google.com/github/aarav1203/PPT/blob/main/BigDataDay4.ipynb\" target=\"_parent\"><img src=\"https://colab.research.google.com/assets/colab-badge.svg\" alt=\"Open In Colab\"/></a>"
      ]
    },
    {
      "cell_type": "markdown",
      "source": [
        "1.  Write a Python program that uses the HiveQL language to create a table named \"Employees\" with columns for \"id,\" \"name,\" and \"salary.\"\n",
        "```\n",
        "from pyhive import hive\n",
        "#Establish a connection to Hive\n",
        "conn=hive.Connection(host='localhost',port=10000,usrname='aarav1203')\n",
        "#Create table\n",
        "query=\"\"\"\n",
        "Create table employees(\n",
        "  id Int,\n",
        "  name String,\n",
        "  salary float)\n",
        "\"\"\"\n",
        "#Execute the query\n",
        "with conn.cursor() as cursor:\n",
        "     cursor.execute(query)\n",
        "#Close the connections\n",
        "conn.close()\n",
        "```\n",
        "\n"
      ],
      "metadata": {
        "id": "DZsZZCNoatD8"
      }
    },
    {
      "cell_type": "markdown",
      "source": [
        "2.  Create a Python program that retrieves records from a Hive table named \"Customers\" where the age is greater than 30\n",
        "\n",
        "\n",
        "```\n",
        "from pyhive import hive\n",
        "# Establish a connection to Hive\n",
        "conn=hive.Connection(host='localhost',port=10000,usrname='aarav1203')\n",
        "#Prepare the query\n",
        "query=\"\"\"\n",
        "select * from customers where age>30\n",
        "\"\"\"\n",
        "#Exectue the query\n",
        "with conn.cursor() as cursor:\n",
        "  cursor.execute(query)\n",
        "\n",
        "  # Fetch all the records\n",
        "  records=cursor.fetchall()\n",
        "  #Process the records\n",
        "  for record in records:\n",
        "    print(record)\n",
        "#Close the connection\n",
        "conn.close()\n",
        "\n",
        "\n",
        "```\n",
        "\n"
      ],
      "metadata": {
        "id": "sYbbsnQRclDR"
      }
    },
    {
      "cell_type": "markdown",
      "source": [
        "3.  Write a Python script that sorts records in descending order based on the \"timestamp\" column in a Hive table named \"Logs.\"\n",
        "\n",
        "```\n",
        "from pyhive import hive\n",
        "\n",
        "conn=hive.Connection(host='localhost',port=10000,usrname='aarav1203')\n",
        "query=\"\"\"\n",
        "select * from logs order by timestamp desc\n",
        "\"\"\"\n",
        "with conn.cursor() as cursor:\n",
        "  cursor.execute(query)\n",
        "\n",
        "  records=cursor.fetchall()\n",
        "  for record in records:\n",
        "    print(record)\n",
        "\n",
        "conn.close()    \n",
        "```\n",
        "\n"
      ],
      "metadata": {
        "id": "eqKQKZxAe_1V"
      }
    },
    {
      "cell_type": "markdown",
      "source": [
        "4.  Write a Python program that connects to a Hive server using PyHive library and retrieves all records from a table named \"Products\".\n",
        "\n",
        "\n",
        "```\n",
        "from pyhive import hive\n",
        "\n",
        "conn=hive.Connection(host='localhost',port=10000,usrname='aarav1203')\n",
        "query=\"\"\"\n",
        "select * from products\n",
        "\"\"\"\n",
        "with conn.cursor() as cursor:\n",
        "  cursor.execute(query)\n",
        "\n",
        "  records=cursor.fetchall()\n",
        "  for record in records:\n",
        "    print(record)\n",
        "\n",
        "conn.close()    \n",
        "```\n",
        "\n"
      ],
      "metadata": {
        "id": "JU4vxviagGz6"
      }
    },
    {
      "cell_type": "markdown",
      "source": [
        "5.  Write a Python script that calculates the average salary of employees from a Hive table named \"Employees\".\n",
        "\n",
        "\n",
        "```\n",
        "from pyhive import hive\n",
        "\n",
        "conn=hive.Connection(host='localhost',port=10000,usrname='aarav1203')\n",
        "query=\"\"\"\n",
        "select avg(salary) as average_salary from employees\n",
        "\"\"\"\n",
        "with conn.cursor() as cursor:\n",
        "  cursor.execute(query)\n",
        "\n",
        "  result=cursor.fetchone()\n",
        "  average_salary=result[0]\n",
        "  print(\"Average salary:\",average_salary)\n",
        "\n",
        "conn.close()  \n",
        "  ```\n",
        "\n"
      ],
      "metadata": {
        "id": "t9LM2VThgr6g"
      }
    },
    {
      "cell_type": "markdown",
      "source": [
        "6.  Implement a Python program that uses Hive partitioning to create a partitioned table named \"Sales_Data\" based on the \"year\" and \"month\" columns.\n",
        "\n",
        "\n",
        "```\n",
        "from pyhive import hive\n",
        "\n",
        "conn=hive.Connection(host='localhost',port=10000,usrname='aarav1203')\n",
        "query=\"\"\"\n",
        "create table sales_data(\n",
        "  id int,\n",
        "  amount float\n",
        ")\n",
        "partitioned by(year int ,month int)\n",
        "\"\"\"\n",
        "with conn.cursor() as cursor:\n",
        "  cursor.execute(query)\n",
        "\n",
        "conn.close()    \n",
        "```\n",
        "\n"
      ],
      "metadata": {
        "id": "xYe4Uw8fhcMD"
      }
    },
    {
      "cell_type": "markdown",
      "source": [
        "7.  Develop a Python script that adds a new column named \"email\" of type string to an existing Hive table named \"Employees.\"\n",
        "\n",
        "\n",
        "```\n",
        "from pyhive import hive\n",
        "\n",
        "conn=hive.Connection(host='localhost',port=10000,usrname='aarav1203')\n",
        "query=\"\"\"\n",
        "alter table employees\n",
        "add columns (email string)\n",
        "\"\"\"\n",
        "with conn.cursor() as cursor:\n",
        "  cursor.execute(query)\n",
        "\n",
        "conn.close()    \n",
        "```\n",
        "\n"
      ],
      "metadata": {
        "id": "gOziKRnriTxs"
      }
    },
    {
      "cell_type": "markdown",
      "source": [
        "8.  Create a Python program that performs an inner join between two Hive tables, \"Orders\" and \"Customers,\" based on a common column.\n",
        "\n",
        "\n",
        "```\n",
        "from pyhive import hive\n",
        "\n",
        "conn=hive.Connection(host='localhost',port=10000,usrname='aarav1203')\n",
        "query=\"\"\"\n",
        "select * from orders inner join customers on orders.customer_id=customers.customer_id\n",
        "\"\"\"\n",
        "with conn.cursor() as cursor:\n",
        "  cursor.execute(query)\n",
        "\n",
        "  records=cursor.fetchall()\n",
        "  for record in records:\n",
        "    print(record)\n",
        "\n",
        "conn.close()  \n",
        "  ```\n",
        "\n"
      ],
      "metadata": {
        "id": "YTLMhg_fjWVh"
      }
    },
    {
      "cell_type": "markdown",
      "source": [
        "9.  Implement a Python program that uses the Hive SerDe library to process JSON data stored in a Hive table named \"User_Activity_Logs.\n",
        "\n",
        "\n",
        "```\n",
        "from pyhive import hive\n",
        "\n",
        "conn=hive.Connection(host='localhost',port=10000,usrname='aarav1203')\n",
        "query=\"\"\"\n",
        "create table user_activity_logs(\n",
        "  user_id int,\n",
        "  activity string\n",
        ")\n",
        "row format serde 'org.apache.hadoop.hive.serde2.OpenCSVSerde'\n",
        "WITH SERDEPROPERTIES(\n",
        "  \"separatorChar\"=\"\\t\",\n",
        "  \"quoteChar\"=\"'\",\n",
        "  \"escapeChar\"=\"\\\\\"\n",
        ")\n",
        "STORED AS TEXTFILE\n",
        "\"\"\"\n",
        "with conn.cursor() as cursor:\n",
        "  cursor.execute(query)\n",
        "\n",
        "conn.close()    \n",
        "```\n",
        "\n"
      ],
      "metadata": {
        "id": "JhSFOAfDkEjg"
      }
    }
  ]
}