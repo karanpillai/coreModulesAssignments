{
  "nbformat": 4,
  "nbformat_minor": 0,
  "metadata": {
    "colab": {
      "provenance": []
    },
    "kernelspec": {
      "name": "python3",
      "display_name": "Python 3"
    },
    "language_info": {
      "name": "python"
    }
  },
  "cells": [
    {
      "cell_type": "markdown",
      "source": [
        "1. Write an SQL query to retrieve the names and email addresses of all employees from a table named \"Employees\".\n",
        "\n",
        "\n",
        "```\n",
        "select name and email from employees.\n",
        "```\n",
        "\n"
      ],
      "metadata": {
        "id": "WRXU5kclWnqg"
      }
    },
    {
      "cell_type": "markdown",
      "source": [
        "2. Write an SQL query to filter records from a table named \"Customers\" where the \"City\" column is 'New York'.\n",
        "\n",
        "\n",
        "```\n",
        "select * from customers where city='New York'\n",
        "```\n",
        "\n"
      ],
      "metadata": {
        "id": "B2cgLpptXIXO"
      }
    },
    {
      "cell_type": "markdown",
      "source": [
        "3. Write an SQL query to sort records in descending order based on the \"DateOfBirth\" column in a table named \"Users\".\n",
        "\n",
        "```\n",
        "select * from users order by dateofbirth desc;\n",
        "```\n",
        "\n"
      ],
      "metadata": {
        "id": "IJGjMW7FXdI_"
      }
    },
    {
      "cell_type": "markdown",
      "source": [
        "4. Write an SQL query to sort records in ascending order based on the \"RegistrationDate\" column in a table named \"Users\".\n",
        "\n",
        "\n",
        "```\n",
        "select * from users order by registrationdate;\n",
        "```\n",
        "\n"
      ],
      "metadata": {
        "id": "9XdE2qe7YIzX"
      }
    },
    {
      "cell_type": "markdown",
      "source": [
        "5. Write an SQL query to find the employee with the highest salary from a table named \"Employees\" and display their name, position, and salary.\n",
        "\n",
        "\n",
        "```\n",
        "select name,position,salary from employees order by salary desc limit 1;\n",
        "```\n",
        "\n"
      ],
      "metadata": {
        "id": "M0syRnWOYmdu"
      }
    },
    {
      "cell_type": "markdown",
      "source": [
        "6. Write an SQL query to retrieve records from a table named \"Customers\" where the \"Phone\" column matches the pattern '+1-XXX-XXX-XXXX'.\n",
        "\n",
        "\n",
        "```\n",
        "select * from customers where phone like '+1-___-___-____';\n",
        "```\n",
        "\n"
      ],
      "metadata": {
        "id": "_sn0FrJHZqKq"
      }
    },
    {
      "cell_type": "markdown",
      "source": [
        "7. Write an SQL query to retrieve the top 5 customers with the highest total purchase amount from a table named \"Orders\" and display their names and total purchase amounts.\n",
        "\n",
        "\n",
        "```\n",
        "select name ,sum(amount) as purchase_amounts from customers group by name order by sum(amount) desc limit 5;\n",
        "```\n",
        "\n"
      ],
      "metadata": {
        "id": "gNPsFDsHbGfJ"
      }
    },
    {
      "cell_type": "markdown",
      "source": [
        "8. Write an SQL query to calculate the percentage of sales for each product category in a table named \"Sales\" and display the category name, total sales amount, and the percentage of total sales.\n",
        "\n",
        "\n",
        "```\n",
        "select category_name,sum(amount) total_sales_amount,sum(amount)/count(category_name) as percentage_of_total_sales from sales group by category_name;\n",
        "```\n",
        "\n"
      ],
      "metadata": {
        "id": "Nens8Npuce_C"
      }
    },
    {
      "cell_type": "markdown",
      "source": [
        "9. Write an SQL query to find the customers who have made the highest total purchases across all years from a table named \"Orders\" and display their names, email addresses, and the total purchase amount\n",
        "\n",
        "```\n",
        "select name,email,sum(amount) as total_purchase_amount from orders group by name order by sum(amount) desc limit 1;\n",
        "```\n",
        "\n"
      ],
      "metadata": {
        "id": "as3KuwD2eaGA"
      }
    }
  ]
}